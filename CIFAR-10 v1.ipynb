{
 "cells": [
  {
   "cell_type": "markdown",
   "id": "8553f34a",
   "metadata": {},
   "source": [
    "# Import Libraries"
   ]
  },
  {
   "cell_type": "code",
   "execution_count": 1,
   "id": "2a39bc43",
   "metadata": {},
   "outputs": [],
   "source": [
    "#import libraries\n",
    "import torch\n",
    "from torch import nn\n",
    "from torch import optim\n",
    "import torch.nn.functional as F\n",
    "\n",
    "import torchvision\n",
    "import torchvision.transforms as transforms\n",
    "from torchvision.transforms import ToTensor\n",
    "\n",
    "import copy\n",
    "import matplotlib.pyplot as plt\n",
    "\n",
    "import numpy as np\n",
    "from sklearn.metrics import confusion_matrix\n",
    "import pandas as pd\n",
    "import requests\n",
    "\n",
    "from PIL import Image\n",
    "from io import BytesIO"
   ]
  },
  {
   "cell_type": "markdown",
   "id": "d65dd2f9",
   "metadata": {},
   "source": [
    "# Fetching Data"
   ]
  },
  {
   "cell_type": "code",
   "execution_count": 2,
   "id": "4c5ae2e6",
   "metadata": {},
   "outputs": [
    {
     "name": "stdout",
     "output_type": "stream",
     "text": [
      "Files already downloaded and verified\n",
      "Files already downloaded and verified\n"
     ]
    }
   ],
   "source": [
    "T = torchvision.transforms.Compose([\n",
    "    torchvision.transforms.ToTensor()\n",
    "])\n",
    "train_data = torchvision.datasets.CIFAR10(root='./data',\n",
    "                                        train= True,\n",
    "                                        download = True,\n",
    "                                        transform=transforms.Compose([transforms.ToTensor()]))\n",
    "val_data = torchvision.datasets.CIFAR10(root='./data',\n",
    "                                        train= False,\n",
    "                                        download = True,\n",
    "                                        transform=transforms.Compose([transforms.ToTensor()]))"
   ]
  },
  {
   "cell_type": "code",
   "execution_count": 3,
   "id": "b9058924",
   "metadata": {},
   "outputs": [],
   "source": [
    "size_batch = 64\n",
    "train_dataloader = torch.utils.data.DataLoader(train_data, batch_size = size_batch)\n",
    "val_dataloader = torch.utils.data.DataLoader(val_data, batch_size = size_batch)"
   ]
  },
  {
   "cell_type": "markdown",
   "id": "9e96166e",
   "metadata": {},
   "source": [
    "# Create Model"
   ]
  },
  {
   "cell_type": "code",
   "execution_count": 4,
   "id": "01fc77b0",
   "metadata": {},
   "outputs": [],
   "source": [
    "def create_model():\n",
    "    model = nn.Sequential(\n",
    "        \n",
    "            nn.Conv2d(3, 32, kernel_size=3, padding=1),\n",
    "            nn.ReLU(),\n",
    "            nn.Conv2d(32, 64, kernel_size=3, stride=1, padding=1),\n",
    "            nn.ReLU(),\n",
    "            nn.MaxPool2d(2, 2), # output: 64 x 16 x 16\n",
    "            nn.BatchNorm2d(64),\n",
    "\n",
    "            nn.Conv2d(64, 128, kernel_size=3, stride=1, padding=1),\n",
    "            nn.ReLU(),\n",
    "            nn.Conv2d(128, 128, kernel_size=3, stride=1, padding=1),\n",
    "            nn.ReLU(),\n",
    "            nn.MaxPool2d(2, 2), # output: 128 x 8 x 8\n",
    "            nn.BatchNorm2d(128),\n",
    "\n",
    "            nn.Conv2d(128, 256, kernel_size=3, stride=1, padding=1),\n",
    "            nn.ReLU(),\n",
    "            nn.Conv2d(256, 256, kernel_size=3, stride=1, padding=1),\n",
    "            nn.ReLU(),\n",
    "            nn.MaxPool2d(2, 2), # output: 256 x 4 x 4\n",
    "            nn.BatchNorm2d(256),\n",
    "\n",
    "            nn.Flatten(), \n",
    "            nn.Linear(256*4*4, 1024),\n",
    "            nn.ReLU(),\n",
    "            nn.Linear(1024, 512),\n",
    "            nn.ReLU(),\n",
    "            nn.Linear(512, 10)       \n",
    "    )\n",
    "    \n",
    "    return model"
   ]
  },
  {
   "cell_type": "markdown",
   "id": "bccfb797",
   "metadata": {},
   "source": [
    "# Validate Model"
   ]
  },
  {
   "cell_type": "code",
   "execution_count": 5,
   "id": "0bb6194c",
   "metadata": {},
   "outputs": [],
   "source": [
    "def validate(model, data):\n",
    "    total = 0\n",
    "    correct = 0\n",
    "    \n",
    "    for i, (images, labels) in enumerate(data):\n",
    "        x = model(images)\n",
    "        value, pred = torch.max(x, 1)\n",
    "        total += x.size(0)\n",
    "        correct += torch.sum(pred == labels)\n",
    "    \n",
    "    return correct * 100. / total"
   ]
  },
  {
   "cell_type": "markdown",
   "id": "2115cf78",
   "metadata": {},
   "source": [
    "# Training Function"
   ]
  },
  {
   "cell_type": "code",
   "execution_count": 8,
   "id": "6b4a5911",
   "metadata": {},
   "outputs": [],
   "source": [
    "def train(numb_epoch = 5, lr = 0.005):\n",
    "    accuracies = []\n",
    "    cnn = create_model()\n",
    "    cec = nn.CrossEntropyLoss()\n",
    "    optimizer = optim.Adam(cnn.parameters(), lr=lr)\n",
    "    max_accuracy = 0\n",
    "    \n",
    "    for epoch in range(numb_epoch):\n",
    "        for i, (images, labels) in enumerate(train_dataloader):\n",
    "            \n",
    "            optimizer.zero_grad()\n",
    "            grad = cnn(images)\n",
    "            loss = cec(grad, labels)\n",
    "            loss.backward()\n",
    "            optimizer.step()\n",
    "        \n",
    "        accuracy = float(validate(cnn, val_dataloader))\n",
    "        accuracies.append(accuracy)\n",
    "        if accuracy > max_accuracy:\n",
    "            best_model = copy.deepcopy(cnn)\n",
    "            max_accuracy = accuracy\n",
    "            \n",
    "            print(\"Saving Best model with accuracy: \", accuracy)\n",
    "        print(\"Epoch: \", epoch+1, \"Accuracy:\", accuracy, \"%\")\n",
    "    plt.plot(accuracies)\n",
    "    return best_model"
   ]
  },
  {
   "cell_type": "markdown",
   "id": "54db3318",
   "metadata": {},
   "source": [
    "# Training Model"
   ]
  },
  {
   "cell_type": "code",
   "execution_count": 9,
   "id": "e27171f8",
   "metadata": {},
   "outputs": [
    {
     "name": "stdout",
     "output_type": "stream",
     "text": [
      "Saving Best model with accuracy:  55.150001525878906\n",
      "Epoch:  1 Accuracy: 55.150001525878906 %\n",
      "Saving Best model with accuracy:  66.38999938964844\n",
      "Epoch:  2 Accuracy: 66.38999938964844 %\n",
      "Saving Best model with accuracy:  72.0999984741211\n",
      "Epoch:  3 Accuracy: 72.0999984741211 %\n",
      "Epoch:  4 Accuracy: 70.7699966430664 %\n",
      "Saving Best model with accuracy:  74.93000030517578\n",
      "Epoch:  5 Accuracy: 74.93000030517578 %\n"
     ]
    },
    {
     "data": {
      "image/png": "[encoded data removed]",
      "text/plain": [
       "<Figure size 432x288 with 1 Axes>"
      ]
     },
     "metadata": {
      "needs_background": "light"
     },
     "output_type": "display_data"
    }
   ],
   "source": [
    "best_model = train(5)"
   ]
  },
  {
   "cell_type": "markdown",
   "id": "b5d4b61a",
   "metadata": {},
   "source": [
    "# Prediction Function"
   ]
  },
  {
   "cell_type": "code",
   "execution_count": 12,
   "id": "643a5198",
   "metadata": {},
   "outputs": [],
   "source": [
    "def predict_dl(model, data):\n",
    "    y_pred = []\n",
    "    y_true = []\n",
    "    for i, (images,labels) in enumerate(data):\n",
    "        x = model(images)\n",
    "        value, pred = torch.max(x, 1)\n",
    "        y_pred.extend(list(pred.numpy()))\n",
    "        y_true.extend(list(labels.numpy()))\n",
    "    \n",
    "    return np.array(y_pred), np.array(y_true)"
   ]
  },
  {
   "cell_type": "code",
   "execution_count": 14,
   "id": "5bfce74e",
   "metadata": {},
   "outputs": [
    {
     "data": {
      "text/html": [
       "<div>\n",
       "<style scoped>\n",
       "    .dataframe tbody tr th:only-of-type {\n",
       "        vertical-align: middle;\n",
       "    }\n",
       "\n",
       "    .dataframe tbody tr th {\n",
       "        vertical-align: top;\n",
       "    }\n",
       "\n",
       "    .dataframe thead th {\n",
       "        text-align: right;\n",
       "    }\n",
       "</style>\n",
       "<table border=\"1\" class=\"dataframe\">\n",
       "  <thead>\n",
       "    <tr style=\"text-align: right;\">\n",
       "      <th></th>\n",
       "      <th>0</th>\n",
       "      <th>1</th>\n",
       "      <th>2</th>\n",
       "      <th>3</th>\n",
       "      <th>4</th>\n",
       "      <th>5</th>\n",
       "      <th>6</th>\n",
       "      <th>7</th>\n",
       "      <th>8</th>\n",
       "      <th>9</th>\n",
       "    </tr>\n",
       "  </thead>\n",
       "  <tbody>\n",
       "    <tr>\n",
       "      <th>0</th>\n",
       "      <td>718</td>\n",
       "      <td>17</td>\n",
       "      <td>85</td>\n",
       "      <td>33</td>\n",
       "      <td>12</td>\n",
       "      <td>3</td>\n",
       "      <td>4</td>\n",
       "      <td>21</td>\n",
       "      <td>78</td>\n",
       "      <td>29</td>\n",
       "    </tr>\n",
       "    <tr>\n",
       "      <th>1</th>\n",
       "      <td>11</td>\n",
       "      <td>884</td>\n",
       "      <td>1</td>\n",
       "      <td>12</td>\n",
       "      <td>2</td>\n",
       "      <td>3</td>\n",
       "      <td>7</td>\n",
       "      <td>3</td>\n",
       "      <td>25</td>\n",
       "      <td>52</td>\n",
       "    </tr>\n",
       "    <tr>\n",
       "      <th>2</th>\n",
       "      <td>33</td>\n",
       "      <td>3</td>\n",
       "      <td>613</td>\n",
       "      <td>97</td>\n",
       "      <td>117</td>\n",
       "      <td>28</td>\n",
       "      <td>44</td>\n",
       "      <td>44</td>\n",
       "      <td>20</td>\n",
       "      <td>1</td>\n",
       "    </tr>\n",
       "    <tr>\n",
       "      <th>3</th>\n",
       "      <td>12</td>\n",
       "      <td>7</td>\n",
       "      <td>54</td>\n",
       "      <td>669</td>\n",
       "      <td>56</td>\n",
       "      <td>83</td>\n",
       "      <td>48</td>\n",
       "      <td>46</td>\n",
       "      <td>18</td>\n",
       "      <td>7</td>\n",
       "    </tr>\n",
       "    <tr>\n",
       "      <th>4</th>\n",
       "      <td>14</td>\n",
       "      <td>4</td>\n",
       "      <td>38</td>\n",
       "      <td>73</td>\n",
       "      <td>715</td>\n",
       "      <td>17</td>\n",
       "      <td>26</td>\n",
       "      <td>99</td>\n",
       "      <td>11</td>\n",
       "      <td>3</td>\n",
       "    </tr>\n",
       "    <tr>\n",
       "      <th>5</th>\n",
       "      <td>7</td>\n",
       "      <td>3</td>\n",
       "      <td>26</td>\n",
       "      <td>258</td>\n",
       "      <td>44</td>\n",
       "      <td>574</td>\n",
       "      <td>12</td>\n",
       "      <td>67</td>\n",
       "      <td>6</td>\n",
       "      <td>3</td>\n",
       "    </tr>\n",
       "    <tr>\n",
       "      <th>6</th>\n",
       "      <td>4</td>\n",
       "      <td>1</td>\n",
       "      <td>31</td>\n",
       "      <td>98</td>\n",
       "      <td>54</td>\n",
       "      <td>8</td>\n",
       "      <td>776</td>\n",
       "      <td>8</td>\n",
       "      <td>16</td>\n",
       "      <td>4</td>\n",
       "    </tr>\n",
       "    <tr>\n",
       "      <th>7</th>\n",
       "      <td>6</td>\n",
       "      <td>4</td>\n",
       "      <td>14</td>\n",
       "      <td>57</td>\n",
       "      <td>32</td>\n",
       "      <td>33</td>\n",
       "      <td>7</td>\n",
       "      <td>840</td>\n",
       "      <td>2</td>\n",
       "      <td>5</td>\n",
       "    </tr>\n",
       "    <tr>\n",
       "      <th>8</th>\n",
       "      <td>26</td>\n",
       "      <td>14</td>\n",
       "      <td>7</td>\n",
       "      <td>17</td>\n",
       "      <td>2</td>\n",
       "      <td>1</td>\n",
       "      <td>4</td>\n",
       "      <td>7</td>\n",
       "      <td>910</td>\n",
       "      <td>12</td>\n",
       "    </tr>\n",
       "    <tr>\n",
       "      <th>9</th>\n",
       "      <td>18</td>\n",
       "      <td>78</td>\n",
       "      <td>4</td>\n",
       "      <td>33</td>\n",
       "      <td>2</td>\n",
       "      <td>0</td>\n",
       "      <td>7</td>\n",
       "      <td>20</td>\n",
       "      <td>44</td>\n",
       "      <td>794</td>\n",
       "    </tr>\n",
       "  </tbody>\n",
       "</table>\n",
       "</div>"
      ],
      "text/plain": [
       "     0    1    2    3    4    5    6    7    8    9\n",
       "0  718   17   85   33   12    3    4   21   78   29\n",
       "1   11  884    1   12    2    3    7    3   25   52\n",
       "2   33    3  613   97  117   28   44   44   20    1\n",
       "3   12    7   54  669   56   83   48   46   18    7\n",
       "4   14    4   38   73  715   17   26   99   11    3\n",
       "5    7    3   26  258   44  574   12   67    6    3\n",
       "6    4    1   31   98   54    8  776    8   16    4\n",
       "7    6    4   14   57   32   33    7  840    2    5\n",
       "8   26   14    7   17    2    1    4    7  910   12\n",
       "9   18   78    4   33    2    0    7   20   44  794"
      ]
     },
     "execution_count": 14,
     "metadata": {},
     "output_type": "execute_result"
    }
   ],
   "source": [
    "y_pred, y_true = predict_dl(best_model, val_dataloader)\n",
    "pd.DataFrame(confusion_matrix(y_true, y_pred, labels=np.arange(0,10)))"
   ]
  },
  {
   "cell_type": "markdown",
   "id": "93ba176c",
   "metadata": {},
   "source": [
    "# Custom Input Function"
   ]
  },
  {
   "cell_type": "code",
   "execution_count": 42,
   "id": "8cafb145",
   "metadata": {},
   "outputs": [],
   "source": [
    "classes = ('plane', 'car', 'bird', 'cat', 'deer', 'dog', 'frog', 'horse', 'ship', 'truck')\n",
    "def predict_custom(path, model):\n",
    "    r = requests.get(path)\n",
    "    with BytesIO(r.content) as f:\n",
    "        img = Image.open(f).convert('RGB')\n",
    "        img = img.resize((32,32))\n",
    "        x = (255 - np.expand_dims(np.array(img), -1)) / 255\n",
    "        t = torch.from_numpy(x.squeeze())\n",
    "        plt.imshow(x.squeeze(-1))\n",
    "        \n",
    "    with torch.no_grad():\n",
    "        x = t.numpy()\n",
    "        pred = model(torch.unsqueeze(T(x), axis = 0).float())\n",
    "        pred = F.softmax(pred, dim= -1).numpy()\n",
    "        pred_idx = np.argmax(pred)\n",
    "        print(f\"Predicted: {pred_idx}, Prob: {pred[0][pred_idx]*100} %\")        \n",
    "        return classes[pred_idx]"
   ]
  },
  {
   "cell_type": "markdown",
   "id": "9fa50c3d",
   "metadata": {},
   "source": [
    "# Custom Input Predict"
   ]
  },
  {
   "cell_type": "code",
   "execution_count": 43,
   "id": "7c406359",
   "metadata": {},
   "outputs": [
    {
     "name": "stdout",
     "output_type": "stream",
     "text": [
      "Predicted: 2, Prob: 90.52472710609436 %\n",
      "bird\n"
     ]
    },
    {
     "data": {
      "image/png": "[encoded data removed]",
      "text/plain": [
       "<Figure size 432x288 with 1 Axes>"
      ]
     },
     "metadata": {
      "needs_background": "light"
     },
     "output_type": "display_data"
    }
   ],
   "source": [
    "path = 'https://cdn.download.ams.birds.cornell.edu/api/v1/asset/202984001/1200'\n",
    "pred = predict_custom(path,best_model)\n",
    "print(pred)"
   ]
  },
  {
   "cell_type": "code",
   "execution_count": null,
   "id": "42bdb587",
   "metadata": {},
   "outputs": [],
   "source": []
  }
 ],
 "metadata": {
  "kernelspec": {
   "display_name": "Python 3 (ipykernel)",
   "language": "python",
   "name": "python3"
  },
  "language_info": {
   "codemirror_mode": {
    "name": "ipython",
    "version": 3
   },
   "file_extension": ".py",
   "mimetype": "text/x-python",
   "name": "python",
   "nbconvert_exporter": "python",
   "pygments_lexer": "ipython3",
   "version": "3.9.12"
  }
 },
 "nbformat": 4,
 "nbformat_minor": 5
}
