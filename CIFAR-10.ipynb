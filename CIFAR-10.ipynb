{
 "cells": [
  {
   "cell_type": "markdown",
   "id": "80cab44d",
   "metadata": {},
   "source": [
    "# Import Libraries"
   ]
  },
  {
   "cell_type": "code",
   "execution_count": 22,
   "id": "d12ad0bb",
   "metadata": {},
   "outputs": [],
   "source": [
    "#import libraries\n",
    "import torch\n",
    "from torch import nn\n",
    "from torch import optim\n",
    "import torch.nn.functional as F\n",
    "\n",
    "import torchvision\n",
    "import torchvision.transforms as transforms\n",
    "from torchvision.transforms import ToTensor\n",
    "\n",
    "import copy\n",
    "import matplotlib.pyplot as plt\n",
    "\n",
    "import numpy as np\n",
    "from sklearn.metrics import confusion_matrix\n",
    "import pandas as pd\n",
    "import requests\n",
    "\n",
    "from PIL import Image\n",
    "from io import BytesIO"
   ]
  },
  {
   "cell_type": "markdown",
   "id": "883779d1",
   "metadata": {},
   "source": [
    "# Fetching Data"
   ]
  },
  {
   "cell_type": "code",
   "execution_count": 23,
   "id": "17d0d698",
   "metadata": {},
   "outputs": [
    {
     "name": "stdout",
     "output_type": "stream",
     "text": [
      "Files already downloaded and verified\n",
      "Files already downloaded and verified\n"
     ]
    }
   ],
   "source": [
    "T = torchvision.transforms.Compose([\n",
    "    torchvision.transforms.ToTensor()\n",
    "])\n",
    "train_data = torchvision.datasets.CIFAR10(root='./data',\n",
    "                                        train= True,\n",
    "                                        download = True,\n",
    "                                        transform=transforms.Compose([transforms.ToTensor()]))\n",
    "val_data = torchvision.datasets.CIFAR10(root='./data',\n",
    "                                        train= False,\n",
    "                                        download = True,\n",
    "                                        transform=transforms.Compose([transforms.ToTensor()]))"
   ]
  },
  {
   "cell_type": "code",
   "execution_count": 24,
   "id": "ad79b0e3",
   "metadata": {},
   "outputs": [],
   "source": [
    "size_batch = 50\n",
    "train_dataloader = torch.utils.data.DataLoader(train_data, batch_size = size_batch)\n",
    "val_dataloader = torch.utils.data.DataLoader(val_data, batch_size = size_batch)"
   ]
  },
  {
   "cell_type": "markdown",
   "id": "29721bb6",
   "metadata": {},
   "source": [
    "# Create Model"
   ]
  },
  {
   "cell_type": "code",
   "execution_count": 25,
   "id": "15e0dc7c",
   "metadata": {},
   "outputs": [],
   "source": [
    "def create_model():\n",
    "    model = nn.Sequential(\n",
    "        \n",
    "            nn.Conv2d(3, 32, kernel_size=3, padding=1),\n",
    "            nn.ReLU(),\n",
    "            nn.Conv2d(32, 64, kernel_size=3, stride=1, padding=1),\n",
    "            nn.ReLU(),\n",
    "            nn.MaxPool2d(2, 2), # output: 64 x 16 x 16\n",
    "            nn.BatchNorm2d(64),\n",
    "\n",
    "            nn.Conv2d(64, 128, kernel_size=3, stride=1, padding=1),\n",
    "            nn.ReLU(),\n",
    "            nn.Conv2d(128, 128, kernel_size=3, stride=1, padding=1),\n",
    "            nn.ReLU(),\n",
    "            nn.MaxPool2d(2, 2), # output: 128 x 8 x 8\n",
    "            nn.BatchNorm2d(128),\n",
    "\n",
    "            nn.Conv2d(128, 256, kernel_size=3, stride=1, padding=1),\n",
    "            nn.ReLU(),\n",
    "            nn.Conv2d(256, 256, kernel_size=3, stride=1, padding=1),\n",
    "            nn.ReLU(),\n",
    "            nn.MaxPool2d(2, 2), # output: 256 x 4 x 4\n",
    "            nn.BatchNorm2d(256),\n",
    "\n",
    "            nn.Flatten(), \n",
    "            nn.Linear(256*4*4, 1024),\n",
    "            nn.ReLU(),\n",
    "            nn.Linear(1024, 512),\n",
    "            nn.ReLU(),\n",
    "            nn.Linear(512, 10)       \n",
    "    )\n",
    "    \n",
    "    return model"
   ]
  },
  {
   "cell_type": "markdown",
   "id": "7900c306",
   "metadata": {},
   "source": [
    "# Validate Model"
   ]
  },
  {
   "cell_type": "code",
   "execution_count": 26,
   "id": "92fe9088",
   "metadata": {},
   "outputs": [],
   "source": [
    "def validate(model, data):\n",
    "    total = 0\n",
    "    correct = 0\n",
    "    \n",
    "    for i, (images, labels) in enumerate(data):\n",
    "        x = model(images)\n",
    "        value, pred = torch.max(x, 1)\n",
    "        total += x.size(0)\n",
    "        correct += torch.sum(pred == labels)\n",
    "    \n",
    "    return correct * 100. / total"
   ]
  },
  {
   "cell_type": "code",
   "execution_count": 27,
   "id": "ccec1ea2",
   "metadata": {},
   "outputs": [],
   "source": [
    "def train_accuracy(model, data):\n",
    "    total = 0\n",
    "    correct = 0\n",
    "    \n",
    "    for i, (images, labels) in enumerate(data):\n",
    "        x = model(images)\n",
    "        value, pred = torch.max(x, 1)\n",
    "        total += x.size(0)\n",
    "        correct += torch.sum(pred == labels)\n",
    "    \n",
    "    return correct * 100. / total"
   ]
  },
  {
   "cell_type": "markdown",
   "id": "00bed89a",
   "metadata": {},
   "source": [
    "# Training Function"
   ]
  },
  {
   "cell_type": "code",
   "execution_count": 28,
   "id": "0192b8bd",
   "metadata": {},
   "outputs": [],
   "source": [
    "def train(numb_epoch = 5, lr = 0.004):\n",
    "    accuracies = []\n",
    "    cnn = create_model()\n",
    "    cec = nn.CrossEntropyLoss()\n",
    "    optimizer = optim.Adam(cnn.parameters(), lr=lr)\n",
    "    max_accuracy = 0\n",
    "    \n",
    "    for epoch in range(numb_epoch):\n",
    "        for i, (images, labels) in enumerate(train_dataloader):\n",
    "            \n",
    "            optimizer.zero_grad()\n",
    "            grad = cnn(images)\n",
    "            loss = cec(grad, labels)\n",
    "            loss.backward()\n",
    "            optimizer.step()\n",
    "        \n",
    "        accuracy = float(validate(cnn, val_dataloader))\n",
    "        accuracies.append(accuracy)\n",
    "        if accuracy > max_accuracy:\n",
    "            best_model = copy.deepcopy(cnn)\n",
    "            max_accuracy = accuracy\n",
    "            \n",
    "            print(\"Saving Best model with accuracy: \", accuracy)\n",
    "            \n",
    "        print(\"Epoch: \", epoch+1, \"Val Accuracy:\", accuracy, \"%\\n\")\n",
    "    plt.plot(accuracies)\n",
    "    return best_model"
   ]
  },
  {
   "cell_type": "markdown",
   "id": "f3cf91d0",
   "metadata": {},
   "source": [
    "# Training Model"
   ]
  },
  {
   "cell_type": "code",
   "execution_count": 29,
   "id": "81521916",
   "metadata": {},
   "outputs": [
    {
     "name": "stdout",
     "output_type": "stream",
     "text": [
      "Saving Best model with accuracy:  61.5099983215332\n",
      "Epoch:  1 Val Accuracy: 61.5099983215332 %\n",
      "\n",
      "Saving Best model with accuracy:  71.37999725341797\n",
      "Epoch:  2 Val Accuracy: 71.37999725341797 %\n",
      "\n",
      "Saving Best model with accuracy:  73.30000305175781\n",
      "Epoch:  3 Val Accuracy: 73.30000305175781 %\n",
      "\n",
      "Saving Best model with accuracy:  76.30000305175781\n",
      "Epoch:  4 Val Accuracy: 76.30000305175781 %\n",
      "\n",
      "Saving Best model with accuracy:  76.41000366210938\n",
      "Epoch:  5 Val Accuracy: 76.41000366210938 %\n",
      "\n",
      "Epoch:  6 Val Accuracy: 74.62999725341797 %\n",
      "\n",
      "Saving Best model with accuracy:  76.55999755859375\n",
      "Epoch:  7 Val Accuracy: 76.55999755859375 %\n",
      "\n",
      "Saving Best model with accuracy:  77.58999633789062\n",
      "Epoch:  8 Val Accuracy: 77.58999633789062 %\n",
      "\n",
      "Epoch:  9 Val Accuracy: 76.87999725341797 %\n",
      "\n",
      "Epoch:  10 Val Accuracy: 76.77999877929688 %\n",
      "\n"
     ]
    },
    {
     "data": {
      "image/png": "[encoded data removed]",
      "text/plain": [
       "<Figure size 432x288 with 1 Axes>"
      ]
     },
     "metadata": {
      "needs_background": "light"
     },
     "output_type": "display_data"
    }
   ],
   "source": [
    "best_model = train(10)"
   ]
  },
  {
   "cell_type": "markdown",
   "id": "53367280",
   "metadata": {},
   "source": [
    "# Prediction Function"
   ]
  },
  {
   "cell_type": "code",
   "execution_count": 30,
   "id": "8f8e7a34",
   "metadata": {},
   "outputs": [],
   "source": [
    "def predict_dl(model, data):\n",
    "    y_pred = []\n",
    "    y_true = []\n",
    "    for i, (images,labels) in enumerate(data):\n",
    "        x = model(images)\n",
    "        value, pred = torch.max(x, 1)\n",
    "        y_pred.extend(list(pred.numpy()))\n",
    "        y_true.extend(list(labels.numpy()))\n",
    "    \n",
    "    return np.array(y_pred), np.array(y_true)"
   ]
  },
  {
   "cell_type": "code",
   "execution_count": 31,
   "id": "2aec2714",
   "metadata": {},
   "outputs": [
    {
     "data": {
      "text/html": [
       "<div>\n",
       "<style scoped>\n",
       "    .dataframe tbody tr th:only-of-type {\n",
       "        vertical-align: middle;\n",
       "    }\n",
       "\n",
       "    .dataframe tbody tr th {\n",
       "        vertical-align: top;\n",
       "    }\n",
       "\n",
       "    .dataframe thead th {\n",
       "        text-align: right;\n",
       "    }\n",
       "</style>\n",
       "<table border=\"1\" class=\"dataframe\">\n",
       "  <thead>\n",
       "    <tr style=\"text-align: right;\">\n",
       "      <th></th>\n",
       "      <th>0</th>\n",
       "      <th>1</th>\n",
       "      <th>2</th>\n",
       "      <th>3</th>\n",
       "      <th>4</th>\n",
       "      <th>5</th>\n",
       "      <th>6</th>\n",
       "      <th>7</th>\n",
       "      <th>8</th>\n",
       "      <th>9</th>\n",
       "    </tr>\n",
       "  </thead>\n",
       "  <tbody>\n",
       "    <tr>\n",
       "      <th>0</th>\n",
       "      <td>816</td>\n",
       "      <td>15</td>\n",
       "      <td>36</td>\n",
       "      <td>22</td>\n",
       "      <td>22</td>\n",
       "      <td>6</td>\n",
       "      <td>3</td>\n",
       "      <td>13</td>\n",
       "      <td>44</td>\n",
       "      <td>23</td>\n",
       "    </tr>\n",
       "    <tr>\n",
       "      <th>1</th>\n",
       "      <td>5</td>\n",
       "      <td>933</td>\n",
       "      <td>1</td>\n",
       "      <td>3</td>\n",
       "      <td>1</td>\n",
       "      <td>3</td>\n",
       "      <td>2</td>\n",
       "      <td>0</td>\n",
       "      <td>8</td>\n",
       "      <td>44</td>\n",
       "    </tr>\n",
       "    <tr>\n",
       "      <th>2</th>\n",
       "      <td>66</td>\n",
       "      <td>8</td>\n",
       "      <td>610</td>\n",
       "      <td>98</td>\n",
       "      <td>81</td>\n",
       "      <td>43</td>\n",
       "      <td>47</td>\n",
       "      <td>31</td>\n",
       "      <td>8</td>\n",
       "      <td>8</td>\n",
       "    </tr>\n",
       "    <tr>\n",
       "      <th>3</th>\n",
       "      <td>15</td>\n",
       "      <td>12</td>\n",
       "      <td>40</td>\n",
       "      <td>692</td>\n",
       "      <td>33</td>\n",
       "      <td>104</td>\n",
       "      <td>40</td>\n",
       "      <td>37</td>\n",
       "      <td>10</td>\n",
       "      <td>17</td>\n",
       "    </tr>\n",
       "    <tr>\n",
       "      <th>4</th>\n",
       "      <td>18</td>\n",
       "      <td>2</td>\n",
       "      <td>48</td>\n",
       "      <td>99</td>\n",
       "      <td>709</td>\n",
       "      <td>25</td>\n",
       "      <td>21</td>\n",
       "      <td>59</td>\n",
       "      <td>11</td>\n",
       "      <td>8</td>\n",
       "    </tr>\n",
       "    <tr>\n",
       "      <th>5</th>\n",
       "      <td>6</td>\n",
       "      <td>3</td>\n",
       "      <td>25</td>\n",
       "      <td>210</td>\n",
       "      <td>31</td>\n",
       "      <td>650</td>\n",
       "      <td>15</td>\n",
       "      <td>48</td>\n",
       "      <td>6</td>\n",
       "      <td>6</td>\n",
       "    </tr>\n",
       "    <tr>\n",
       "      <th>6</th>\n",
       "      <td>6</td>\n",
       "      <td>13</td>\n",
       "      <td>25</td>\n",
       "      <td>103</td>\n",
       "      <td>29</td>\n",
       "      <td>17</td>\n",
       "      <td>787</td>\n",
       "      <td>5</td>\n",
       "      <td>8</td>\n",
       "      <td>7</td>\n",
       "    </tr>\n",
       "    <tr>\n",
       "      <th>7</th>\n",
       "      <td>11</td>\n",
       "      <td>3</td>\n",
       "      <td>13</td>\n",
       "      <td>48</td>\n",
       "      <td>26</td>\n",
       "      <td>40</td>\n",
       "      <td>2</td>\n",
       "      <td>845</td>\n",
       "      <td>4</td>\n",
       "      <td>8</td>\n",
       "    </tr>\n",
       "    <tr>\n",
       "      <th>8</th>\n",
       "      <td>43</td>\n",
       "      <td>32</td>\n",
       "      <td>7</td>\n",
       "      <td>17</td>\n",
       "      <td>3</td>\n",
       "      <td>0</td>\n",
       "      <td>7</td>\n",
       "      <td>3</td>\n",
       "      <td>872</td>\n",
       "      <td>16</td>\n",
       "    </tr>\n",
       "    <tr>\n",
       "      <th>9</th>\n",
       "      <td>24</td>\n",
       "      <td>82</td>\n",
       "      <td>4</td>\n",
       "      <td>16</td>\n",
       "      <td>2</td>\n",
       "      <td>5</td>\n",
       "      <td>1</td>\n",
       "      <td>7</td>\n",
       "      <td>14</td>\n",
       "      <td>845</td>\n",
       "    </tr>\n",
       "  </tbody>\n",
       "</table>\n",
       "</div>"
      ],
      "text/plain": [
       "     0    1    2    3    4    5    6    7    8    9\n",
       "0  816   15   36   22   22    6    3   13   44   23\n",
       "1    5  933    1    3    1    3    2    0    8   44\n",
       "2   66    8  610   98   81   43   47   31    8    8\n",
       "3   15   12   40  692   33  104   40   37   10   17\n",
       "4   18    2   48   99  709   25   21   59   11    8\n",
       "5    6    3   25  210   31  650   15   48    6    6\n",
       "6    6   13   25  103   29   17  787    5    8    7\n",
       "7   11    3   13   48   26   40    2  845    4    8\n",
       "8   43   32    7   17    3    0    7    3  872   16\n",
       "9   24   82    4   16    2    5    1    7   14  845"
      ]
     },
     "execution_count": 31,
     "metadata": {},
     "output_type": "execute_result"
    }
   ],
   "source": [
    "y_pred, y_true = predict_dl(best_model, val_dataloader)\n",
    "pd.DataFrame(confusion_matrix(y_true, y_pred, labels=np.arange(0,10)))"
   ]
  },
  {
   "cell_type": "markdown",
   "id": "2c931626",
   "metadata": {},
   "source": [
    "# Custom Input Function"
   ]
  },
  {
   "cell_type": "code",
   "execution_count": 32,
   "id": "94ac6687",
   "metadata": {},
   "outputs": [],
   "source": [
    "classes = ('plane', 'car', 'bird', 'cat', 'deer', 'dog', 'frog', 'horse', 'ship', 'truck')\n",
    "def predict_custom(path, model):\n",
    "    r = requests.get(path)\n",
    "    with BytesIO(r.content) as f:\n",
    "        img = Image.open(f).convert('RGB')\n",
    "        img = img.resize((32,32))\n",
    "        x = (255 - np.expand_dims(np.array(img), -1)) / 255\n",
    "        t = torch.from_numpy(x.squeeze())\n",
    "        plt.imshow(x.squeeze(-1))\n",
    "        \n",
    "    with torch.no_grad():\n",
    "        x = t.numpy()\n",
    "        pred = model(torch.unsqueeze(T(x), axis = 0).float())\n",
    "        pred = F.softmax(pred, dim= -1).numpy()\n",
    "        pred_idx = np.argmax(pred)\n",
    "        print(f\"Predicted: {pred_idx}, Prob: {pred[0][pred_idx]*100} %\")        \n",
    "        return classes[pred_idx]"
   ]
  },
  {
   "cell_type": "markdown",
   "id": "752f06a2",
   "metadata": {},
   "source": [
    "# Custom Input Predict"
   ]
  },
  {
   "cell_type": "code",
   "execution_count": 33,
   "id": "abadf7c3",
   "metadata": {},
   "outputs": [
    {
     "name": "stdout",
     "output_type": "stream",
     "text": [
      "Predicted: 2, Prob: 99.91045594215393 %\n",
      "bird\n"
     ]
    },
    {
     "data": {
      "image/png": "[encoded data removed]",
      "text/plain": [
       "<Figure size 432x288 with 1 Axes>"
      ]
     },
     "metadata": {
      "needs_background": "light"
     },
     "output_type": "display_data"
    }
   ],
   "source": [
    "path = 'https://cdn.download.ams.birds.cornell.edu/api/v1/asset/202984001/1200'\n",
    "pred = predict_custom(path,best_model)\n",
    "print(pred)"
   ]
  },
  {
   "cell_type": "code",
   "execution_count": 35,
   "id": "d90b1dc2",
   "metadata": {},
   "outputs": [
    {
     "name": "stdout",
     "output_type": "stream",
     "text": [
      "Predicted: 0, Prob: 85.58186888694763 %\n",
      "plane\n"
     ]
    },
    {
     "data": {
      "image/png": "[encoded data removed]",
      "text/plain": [
       "<Figure size 432x288 with 1 Axes>"
      ]
     },
     "metadata": {
      "needs_background": "light"
     },
     "output_type": "display_data"
    }
   ],
   "source": [
    "path = 'https://assets.bwbx.io/images/users/iqjWHBFdfxIU/ioY9jnR7w52Y/v0/1200x-1.jpg'\n",
    "pred = predict_custom(path,best_model)\n",
    "print(pred)"
   ]
  },
  {
   "cell_type": "code",
   "execution_count": null,
   "id": "3293fb4f",
   "metadata": {},
   "outputs": [],
   "source": []
  }
 ],
 "metadata": {
  "kernelspec": {
   "display_name": "Python 3 (ipykernel)",
   "language": "python",
   "name": "python3"
  },
  "language_info": {
   "codemirror_mode": {
    "name": "ipython",
    "version": 3
   },
   "file_extension": ".py",
   "mimetype": "text/x-python",
   "name": "python",
   "nbconvert_exporter": "python",
   "pygments_lexer": "ipython3",
   "version": "3.9.12"
  }
 },
 "nbformat": 4,
 "nbformat_minor": 5
}
