{
 "cells": [
  {
   "cell_type": "code",
   "execution_count": 1,
   "id": "f46df983",
   "metadata": {},
   "outputs": [],
   "source": [
    "#import libraries\n",
    "import numpy as np"
   ]
  },
  {
   "cell_type": "code",
   "execution_count": 2,
   "id": "cc4c29ad",
   "metadata": {},
   "outputs": [],
   "source": [
    "#define the sigmoid activation function for output layer\n",
    "def sigmoid(z):\n",
    "  return 1/(1 + np.exp(-z))"
   ]
  },
  {
   "cell_type": "code",
   "execution_count": 3,
   "id": "ae212685",
   "metadata": {},
   "outputs": [],
   "source": [
    "#initialize the parameters for 2 hidden layers\n",
    "def initialize_parameters(n_x, n_h1, n_h2, n_y):\n",
    "  \n",
    "  #We do random assignment to parameters instead of zero\n",
    "  W1 = np.random.randn(n_h1, n_x)\n",
    "  b1 = np.random.randn(n_h1, 1)\n",
    "  W2 = np.random.randn(n_h2, n_h1)\n",
    "  b2 = np.random.randn(n_h2, 1)\n",
    "  W3 = np.random.randn(n_y, n_h2)\n",
    "  b3 = np.random.randn(n_y, 1)\n",
    "    \n",
    "  parameters = {\n",
    "    \"W1\": W1,\n",
    "    \"b1\" : b1,\n",
    "    \"W2\": W2,\n",
    "    \"b2\" : b2,\n",
    "    \"W3\": W3,\n",
    "    \"b3\" : b3\n",
    "  }\n",
    "  return parameters"
   ]
  },
  {
   "cell_type": "code",
   "execution_count": 4,
   "id": "ebdcd439",
   "metadata": {},
   "outputs": [],
   "source": [
    "#perform forward propagation\n",
    "def forward_prop(X, parameters):\n",
    "  W1 = parameters[\"W1\"]\n",
    "  b1 = parameters[\"b1\"]\n",
    "  W2 = parameters[\"W2\"]\n",
    "  b2 = parameters[\"b2\"]\n",
    "  W3 = parameters[\"W3\"]\n",
    "  b3 = parameters[\"b3\"]\n",
    "    \n",
    "  #b is resized by broadcasting\n",
    "\n",
    "  #tanh is used as activation ftn for hidden layers and sigmoid for output layer\n",
    "  Z1 = np.dot(W1, X) + b1\n",
    "  A1 = np.tanh(Z1)\n",
    "  Z2 = np.dot(W2, A1) + b2\n",
    "  A2 = np.tanh(Z2)    \n",
    "  Z3 = np.dot(W3, A2) + b3\n",
    "  A3 = sigmoid(Z3)\n",
    "  \n",
    "  #cache is used in back propagation\n",
    "  cache = {\n",
    "    \"A1\": A1,\n",
    "    \"A2\": A2,\n",
    "    \"A3\": A3  \n",
    "  }\n",
    "  return A3, cache"
   ]
  },
  {
   "cell_type": "code",
   "execution_count": 5,
   "id": "fe2acaa2",
   "metadata": {},
   "outputs": [],
   "source": [
    "#determine the loss function to retune the parameters\n",
    "def calculate_cost(A3, Y):\n",
    "    \n",
    "  #cost ftn of logisitic regression\n",
    "  cost = -np.sum(np.multiply(Y, np.log(A3)) +  np.multiply(1-Y, np.log(1-A3)))/m\n",
    "  cost = np.squeeze(cost)\n",
    "\n",
    "  return cost"
   ]
  },
  {
   "cell_type": "code",
   "execution_count": 6,
   "id": "f0f8974d",
   "metadata": {},
   "outputs": [],
   "source": [
    "#perform back propagation\n",
    "def backward_prop(X, Y, cache, parameters):\n",
    "  A1 = cache[\"A1\"]\n",
    "  A2 = cache[\"A2\"]\n",
    "  A3 = cache[\"A3\"]\n",
    "\n",
    "  W3 = parameters[\"W3\"]\n",
    "  W2 = parameters[\"W2\"]\n",
    "\n",
    "  #backpropagation for output layer\n",
    "  dZ3 = A3 - Y\n",
    "  dW3 = np.dot(dZ3, A2.T)/m\n",
    "  db3 = np.sum(dZ3, axis=1, keepdims=True)/m\n",
    "\n",
    "  #backpropagation for 2nd hidden layer\n",
    "  dZ2 = np.multiply(np.dot(W3.T, dZ3), 1-np.power(A2, 2))\n",
    "  dW2 = np.dot(dZ2, A1.T)/m\n",
    "  db2 = np.sum(dZ2, axis=1, keepdims=True)/m\n",
    "    \n",
    "  #backpropagation for 1st hidden layer \n",
    "  dZ1 = np.multiply(np.dot(W2.T, dZ2), 1-np.power(A1, 2))\n",
    "  dW1 = np.dot(dZ1, X.T)/m\n",
    "  db1 = np.sum(dZ1, axis=1, keepdims=True)/m\n",
    "\n",
    "  grads = {\n",
    "    \"dW1\": dW1,\n",
    "    \"db1\": db1,\n",
    "    \"dW2\": dW2,\n",
    "    \"db2\": db2,\n",
    "    \"dW3\": dW3,\n",
    "    \"db3\": db3\n",
    "  }\n",
    "\n",
    "  return grads"
   ]
  },
  {
   "cell_type": "code",
   "execution_count": 7,
   "id": "3bf9f645",
   "metadata": {},
   "outputs": [],
   "source": [
    "#We update the parameters\n",
    "def update_parameters(parameters, grads, learning_rate):\n",
    "  W1 = parameters[\"W1\"]\n",
    "  b1 = parameters[\"b1\"]\n",
    "  W2 = parameters[\"W2\"]\n",
    "  b2 = parameters[\"b2\"]\n",
    "  W3 = parameters[\"W3\"]\n",
    "  b3 = parameters[\"b3\"]\n",
    "    \n",
    "  dW1 = grads[\"dW1\"]\n",
    "  db1 = grads[\"db1\"]\n",
    "  dW2 = grads[\"dW2\"]\n",
    "  db2 = grads[\"db2\"]\n",
    "  dW3 = grads[\"dW3\"]\n",
    "  db3 = grads[\"db3\"]\n",
    "    \n",
    "  #performing gradient descenet\n",
    "  W1 = W1 - learning_rate * dW1\n",
    "  b1 = b1 - learning_rate * db1\n",
    "  W2 = W2 - learning_rate * dW2\n",
    "  b2 = b2 - learning_rate * db2\n",
    "  W3 = W3 - learning_rate * dW3\n",
    "  b3 = b3 - learning_rate * db3\n",
    "\n",
    "  new_parameters = {\n",
    "    \"W1\": W1,\n",
    "    \"W2\": W2,\n",
    "    \"W3\": W3,\n",
    "    \"b1\" : b1,\n",
    "    \"b2\" : b2,\n",
    "    \"b3\" : b3\n",
    "  }\n",
    "\n",
    "  return new_parameters"
   ]
  },
  {
   "cell_type": "code",
   "execution_count": 8,
   "id": "ee89dc0e",
   "metadata": {},
   "outputs": [],
   "source": [
    "#model to run neural network\n",
    "def model(X, Y, n_x, n_h1, n_h2, n_y, num_of_iters, learning_rate):\n",
    "  parameters = initialize_parameters(n_x, n_h1, n_h2, n_y)\n",
    "\n",
    "  #Running the model for a number of iterations\n",
    "  for i in range(0, num_of_iters+1):\n",
    "    a2, cache = forward_prop(X, parameters)\n",
    "\n",
    "    cost = calculate_cost(a2, Y)\n",
    "\n",
    "    grads = backward_prop(X, Y, cache, parameters)\n",
    "\n",
    "    parameters = update_parameters(parameters, grads, learning_rate)\n",
    "\n",
    "    if(i % 100 == 0):\n",
    "      print('Cost after iteration# {:d}: {:f}'.format(i, cost))\n",
    "\n",
    "  return parameters"
   ]
  },
  {
   "cell_type": "code",
   "execution_count": 9,
   "id": "eae7830e",
   "metadata": {},
   "outputs": [],
   "source": [
    "#model for prediction\n",
    "def predict(X, parameters):\n",
    "  a2, cache = forward_prop(X, parameters)\n",
    "  yhat = a2\n",
    "  yhat = np.squeeze(yhat)\n",
    "\n",
    "  #If prediction is more than 0.5 we classify as 1 otherwise as 0\n",
    "  if(yhat >= 0.5):\n",
    "    y_predict = 1\n",
    "  else:\n",
    "    y_predict = 0\n",
    "\n",
    "  return y_predict"
   ]
  },
  {
   "cell_type": "code",
   "execution_count": 10,
   "id": "e92e6858",
   "metadata": {
    "scrolled": true
   },
   "outputs": [
    {
     "name": "stdout",
     "output_type": "stream",
     "text": [
      "Cost after iteration# 0: 0.592205\n",
      "Cost after iteration# 100: 0.165568\n",
      "Cost after iteration# 200: 0.026749\n",
      "Cost after iteration# 300: 0.013933\n",
      "Cost after iteration# 400: 0.009449\n",
      "Cost after iteration# 500: 0.007151\n",
      "Cost after iteration# 600: 0.005746\n",
      "Cost after iteration# 700: 0.004795\n",
      "Cost after iteration# 800: 0.004106\n",
      "Cost after iteration# 900: 0.003581\n",
      "Cost after iteration# 1000: 0.003168\n"
     ]
    }
   ],
   "source": [
    "#main code starts here\n",
    "if __name__ == \"__main__\":\n",
    "    np.random.seed(2)\n",
    "\n",
    "    # The 8 training examples by columns\n",
    "    X = np.array([[0,1,0,1,1,0,0,1]\n",
    "                , [0,0,1,0,1,1,0,1]\n",
    "                , [0,0,0,1,0,1,1,1]\n",
    "                , [0,1,0,0,1,0,1,1]])\n",
    "\n",
    "    # The outputs of the 4 input AND for every example in X\n",
    "    Y = np.array([[0, 0, 0, 0, 0, 0, 0, 1]])\n",
    "    \n",
    "    m = X.shape[1]\n",
    "\n",
    "    # Set the hyperparameters\n",
    "    n_x = 4      #No. of neurons in first layer\n",
    "    n_h1 = 2     #No. of neurons in 1st hidden layer\n",
    "    n_h2 = 2     #No. of neurons in 2nd hidden layer\n",
    "    n_y = 1      #No. of neurons in output layer\n",
    "    num_of_iters = 1000\n",
    "    learning_rate = 0.3\n",
    "    \n",
    "    trained_parameters = model(X, Y, n_x, n_h1, n_h2, n_y, num_of_iters, learning_rate)"
   ]
  },
  {
   "cell_type": "code",
   "execution_count": 11,
   "id": "8f8a11f8",
   "metadata": {},
   "outputs": [
    {
     "name": "stdout",
     "output_type": "stream",
     "text": [
      "Neural Network prediction is 0\n"
     ]
    }
   ],
   "source": [
    "# Test 4X1 vector to calculate the 4 input AND of its elements. \n",
    "X_test = np.array([[0], [1], [1], [1]])\n",
    "y_predict = predict(X_test, trained_parameters)\n",
    "\n",
    "# Print the result\n",
    "print('Neural Network prediction is {:d}'.format(y_predict))"
   ]
  },
  {
   "cell_type": "code",
   "execution_count": 12,
   "id": "8b22be48",
   "metadata": {},
   "outputs": [
    {
     "name": "stdout",
     "output_type": "stream",
     "text": [
      "Neural Network prediction is 1\n"
     ]
    }
   ],
   "source": [
    "X_test = np.array([[1], [1], [1], [1]])\n",
    "y_predict = predict(X_test, trained_parameters)\n",
    "\n",
    "# Print the result\n",
    "print('Neural Network prediction is {:d}'.format(y_predict))"
   ]
  }
 ],
 "metadata": {
  "kernelspec": {
   "display_name": "Python 3 (ipykernel)",
   "language": "python",
   "name": "python3"
  },
  "language_info": {
   "codemirror_mode": {
    "name": "ipython",
    "version": 3
   },
   "file_extension": ".py",
   "mimetype": "text/x-python",
   "name": "python",
   "nbconvert_exporter": "python",
   "pygments_lexer": "ipython3",
   "version": "3.9.12"
  }
 },
 "nbformat": 4,
 "nbformat_minor": 5
}
